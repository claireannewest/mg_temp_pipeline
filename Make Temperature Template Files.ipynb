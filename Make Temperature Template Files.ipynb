{
 "cells": [
  {
   "cell_type": "code",
   "execution_count": 1,
   "id": "35dc31df",
   "metadata": {},
   "outputs": [],
   "source": [
    "import numpy as np\n",
    "import matplotlib.pyplot as plt\n",
    "from make_mg_template_files import Mg_Shapes\n",
    "import os\n",
    "from distutils.dir_util import copy_tree\n",
    "from shutil import copyfile"
   ]
  },
  {
   "cell_type": "code",
   "execution_count": 2,
   "id": "26d43a19",
   "metadata": {},
   "outputs": [],
   "source": [
    "main_folder = 'demo'\n",
    "folders = ['hex100nm-4nm', 'kite80nm-6nm']\n",
    "kind = ['hex', 'kite'] # record the shape, e.g., hex, taco, tent, kite, chair. Need new entry for each shape file.\n",
    "lat_space = np.array([2, 2]) # dipole spacing \n",
    "ylength = ['100', '80'] # tip-to-tip length in nm\n",
    "cluster = 'esc'\n",
    "shell = True # True = a shell, False = no shell\n",
    "CRSid = 'caw97'"
   ]
  },
  {
   "cell_type": "code",
   "execution_count": 3,
   "id": "acb54279",
   "metadata": {},
   "outputs": [],
   "source": [
    "# %rm -r ../create_files/demo/temps/*"
   ]
  },
  {
   "cell_type": "code",
   "execution_count": 4,
   "id": "8489b5cb",
   "metadata": {},
   "outputs": [
    {
     "name": "stdout",
     "output_type": "stream",
     "text": [
      "hex100nm-4nm\n",
      "kite80nm-6nm\n"
     ]
    }
   ],
   "source": [
    "for idx, name in enumerate(folders):\n",
    "    print(name)\n",
    "    dirname_S = str('../data_files/')+str(main_folder)+str('/spectra/')+str(name) \n",
    "    dirname_T = str('../create_files/')+str(main_folder)+str('/temps/')+str(name) \n",
    "    \n",
    "    # Make directories\n",
    "    os.mkdir(dirname_T)\n",
    "    copyfile(str(dirname_S)+str('/ddscat.par'), str(dirname_T)+str('/ddscat.par'))\n",
    "    copyfile(str(dirname_S)+str('/launch_temp.slurm'), str(dirname_T)+str('/launch_temp.slurm'))\n",
    "    copyfile(str(dirname_S)+str('/shape.dat'), str(dirname_T)+str('/shape.dat'))\n",
    "    \n",
    "    mgshape = Mg_Shapes(CRSid=CRSid,\n",
    "                    lat_space=lat_space[idx], \n",
    "                    length=ylength[idx],\n",
    "                    kind=kind[idx],\n",
    "                    new_dir_spec=dirname_S,\n",
    "                    new_dir_temp=dirname_T,\n",
    "                    shell=shell)\n",
    "    # Update shape file\n",
    "    xvals, yvals, zvals = mgshape.rewrite_shapefile_forT()\n",
    "    \n",
    "    # Update ddscat.par\n",
    "    peak_abs = mgshape.write_ddscatpar_forT(\n",
    "        data_spec=str('../data_files/')+str(main_folder)+str('/spectra/')+str(name)+str('/Spectrum'), which_cluster=cluster)\n",
    "    \n",
    "    # Update launch file\n",
    "    mgshape.write_launchfile_forT(which_cluster=cluster)\n",
    "    os.remove(str(dirname_T)+str('/launch_temp.slurm'))\n",
    "    \n",
    "    # Write var.par\n",
    "    mgshape.write_varpar(peak_abs, xvals, yvals, zvals)\n",
    "    "
   ]
  },
  {
   "cell_type": "code",
   "execution_count": null,
   "id": "230a119c",
   "metadata": {},
   "outputs": [],
   "source": []
  }
 ],
 "metadata": {
  "kernelspec": {
   "display_name": "Python 3 (ipykernel)",
   "language": "python",
   "name": "python3"
  },
  "language_info": {
   "codemirror_mode": {
    "name": "ipython",
    "version": 3
   },
   "file_extension": ".py",
   "mimetype": "text/x-python",
   "name": "python",
   "nbconvert_exporter": "python",
   "pygments_lexer": "ipython3",
   "version": "3.8.11"
  }
 },
 "nbformat": 4,
 "nbformat_minor": 5
}
