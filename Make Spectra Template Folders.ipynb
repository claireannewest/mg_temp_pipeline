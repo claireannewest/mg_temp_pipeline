{
 "cells": [
  {
   "cell_type": "code",
   "execution_count": 1,
   "id": "75b786c9",
   "metadata": {},
   "outputs": [],
   "source": [
    "import numpy as np\n",
    "import matplotlib.pyplot as plt\n",
    "from make_mg_template_files import Mg_Shapes\n",
    "import os\n",
    "from distutils.dir_util import copy_tree\n",
    "import shutil"
   ]
  },
  {
   "cell_type": "code",
   "execution_count": 2,
   "id": "e4a4406a",
   "metadata": {},
   "outputs": [],
   "source": [
    "main_folder = 'demo'\n",
    "folders = ['hex100nm-4nm', 'kite80nm-6nm']\n",
    "kind = ['hex', 'kite'] # record the shape, e.g., hex, taco, tent, kite, chair. Need new entry for each shape file.\n",
    "lat_space = np.array([2, 2]) # dipole spacing \n",
    "ylength = ['100', '80'] # tip-to-tip length in nm\n",
    "cluster = 'esc' # 'esc' or 'hpc'\n",
    "shell = True # True = a shell, False = no shell\n",
    "CRSid = 'caw97'"
   ]
  },
  {
   "cell_type": "markdown",
   "id": "8494845d",
   "metadata": {},
   "source": [
    "## Remake Shape Files from CC "
   ]
  },
  {
   "cell_type": "code",
   "execution_count": 3,
   "id": "1aa76b39",
   "metadata": {},
   "outputs": [],
   "source": [
    "%rm -r ../create_files/demo/spectra/*"
   ]
  },
  {
   "cell_type": "code",
   "execution_count": 4,
   "id": "ad28ce59",
   "metadata": {},
   "outputs": [
    {
     "name": "stdout",
     "output_type": "stream",
     "text": [
      "hex100nm-4nm\n",
      "kite80nm-6nm\n"
     ]
    }
   ],
   "source": [
    "for idx, name in enumerate(folders):\n",
    "    print(name)\n",
    "    dirname = str('../create_files/')+str(main_folder)+str('/spectra/') + str(name)\n",
    "    # Make directory, copy files\n",
    "    os.mkdir(dirname)\n",
    "    if shell == True: \n",
    "        copy_tree(str(\"template_files/\")+str(cluster)+str(\"/\"), str(dirname))\n",
    "    if shell == False:\n",
    "        copy_tree(str(\"template_files/\")+str(cluster)+str(\"/\"), str(dirname))\n",
    "\n",
    "    # Remake shape files\n",
    "    mgshape = Mg_Shapes(CRSid=CRSid,\n",
    "                    lat_space=lat_space[idx], \n",
    "                    length=ylength[idx],\n",
    "                    kind=kind[idx],\n",
    "                    new_dir_spec=dirname,\n",
    "                    new_dir_temp=str(''),\n",
    "                    shell=shell)\n",
    "    mgshape.rewrite_shapefile(shape_old=np.loadtxt(\n",
    "        str('../create_files/')+str(main_folder)+str('/shapes_from_cc/shape-')+str(name)+str('.dat'),skiprows=7),)\n",
    "    \n",
    "    # Edit ddscat.par files\n",
    "    mgshape.write_ddscatpar(which_cluster=cluster)\n",
    "    os.rename('ddscat.par', str(dirname)+str('/ddscat.par'))\n",
    "\n",
    "    if cluster == 'hpc':\n",
    "        # Remake launch_temp\n",
    "        new_launch = open(str(dirname)+str('/launch_temp.slurm'))\n",
    "        lines = new_launch.readlines()\n",
    "        lines[2] = str('#SBATCH -J ')+str(name) + '\\n'\n",
    "        new_launch = open(str(dirname)+str('/launch_temp.slurm'),\"w\")\n",
    "        new_launch.writelines(lines)\n",
    "        new_launch.close()\n",
    "    \n",
    "    if cluster == 'esc':\n",
    "        # Remake launch_temp\n",
    "        new_launch = open(str(dirname)+str('/launch_temp.slurm'))\n",
    "        lines = new_launch.readlines()\n",
    "        lines[1] = str('#SBATCH -J ')+str(name) + '\\n'\n",
    "        lines[17] = str('/home/')+str(CRSid)+str('/source_code/g-dda/source_code/ddscat &> ${file}.out &')+'\\n'\n",
    "        new_launch = open(str(dirname)+str('/launch_temp.slurm'),\"w\")\n",
    "        new_launch.writelines(lines)\n",
    "        new_launch.close()   \n",
    "        \n",
    "        # Remake submit_together\n",
    "        new_submit = open(str(dirname)+str('/submit_together.slurm'))\n",
    "        lines = new_submit.readlines()\n",
    "        lines[17] = str('sbatch --dependency=singleton --job-name=')+str(name)+str(' collect.slurm') + '\\n'\n",
    "        new_submit = open(str(dirname)+str('/submit_together.slurm'),\"w\")\n",
    "        new_submit.writelines(lines)\n",
    "        new_submit.close()   \n",
    "        \n",
    "    # Remake make_dirs.py\n",
    "    new = open(str(dirname)+str('/make_dirs.py'))\n",
    "    lines = new.readlines()\n",
    "    lines[11] = str('shell = ') + str(shell) +'\\n'\n",
    "    new = open(str(dirname)+str('/make_dirs.py'),\"w\")\n",
    "    new.writelines(lines)\n",
    "    new.close()   \n",
    "    \n",
    "    \n",
    "    \n",
    "    \n"
   ]
  },
  {
   "cell_type": "code",
   "execution_count": null,
   "id": "6b4c31e0",
   "metadata": {},
   "outputs": [],
   "source": []
  },
  {
   "cell_type": "code",
   "execution_count": null,
   "id": "b1224b10",
   "metadata": {},
   "outputs": [],
   "source": []
  }
 ],
 "metadata": {
  "kernelspec": {
   "display_name": "Python 3 (ipykernel)",
   "language": "python",
   "name": "python3"
  },
  "language_info": {
   "codemirror_mode": {
    "name": "ipython",
    "version": 3
   },
   "file_extension": ".py",
   "mimetype": "text/x-python",
   "name": "python",
   "nbconvert_exporter": "python",
   "pygments_lexer": "ipython3",
   "version": "3.8.11"
  }
 },
 "nbformat": 4,
 "nbformat_minor": 5
}
