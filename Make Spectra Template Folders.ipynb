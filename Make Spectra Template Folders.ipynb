{
 "cells": [
  {
   "cell_type": "code",
   "execution_count": 1,
   "id": "75b786c9",
   "metadata": {},
   "outputs": [],
   "source": [
    "import numpy as np\n",
    "import matplotlib.pyplot as plt\n",
    "from make_mg_template_files import Mg_Shapes\n",
    "import os\n",
    "from distutils.dir_util import copy_tree\n",
    "import shutil\n",
    "\n",
    "# %rm -r size_100nm-DS2/spectra/*"
   ]
  },
  {
   "cell_type": "markdown",
   "id": "8494845d",
   "metadata": {},
   "source": [
    "## Remake Shape Files from CC "
   ]
  },
  {
   "cell_type": "code",
   "execution_count": 11,
   "id": "ad28ce59",
   "metadata": {},
   "outputs": [
    {
     "name": "stdout",
     "output_type": "stream",
     "text": [
      "kite4\n",
      "kite6\n",
      "kite12\n",
      "kite24\n"
     ]
    }
   ],
   "source": [
    "kind = ['kite4', 'kite6', 'kite12', 'kite24']\n",
    "lat_space = 2\n",
    "ylength = 200 # in nm\n",
    "\n",
    "for idx, name in enumerate(kind):\n",
    "    print(name)\n",
    "    dirname = str('size_200nm-shell-study/spectra/') + str(name)\n",
    "    # Make directory, copy files\n",
    "    os.mkdir(dirname)\n",
    "    copy_tree(\"template_files_spectra-shell/\", str(dirname))\n",
    "    \n",
    "    # Remake shape files\n",
    "    mgshape = Mg_Shapes(lat_space=lat_space, \n",
    "                    length=ylength,\n",
    "                    kind=name,\n",
    "                    new_dir_spec=dirname,\n",
    "                    new_dir_temp=str(''),\n",
    "                    shell=True)\n",
    "    mgshape.rewrite_shapefile(shape_old=np.loadtxt(\n",
    "        str('size_200nm-shell-study/shape_files_from_cc/shape-')+str(name)+str('.dat'),skiprows=7),)\n",
    "    \n",
    "    # Edit ddscat.par files\n",
    "    mgshape.write_ddscatpar()\n",
    "    os.rename('ddscat.par', str(dirname)+str('/ddscat.par'))\n",
    "\n",
    "    # Rename launch_temp\n",
    "    new_launch = open(str(dirname)+str('/launch_temp.slurm'))\n",
    "    lines = new_launch.readlines()\n",
    "    lines[2] = str('#SBATCH -J ')+str(name) + '\\n'\n",
    "    new_launch = open(str(dirname)+str('/launch_temp.slurm'),\"w\")\n",
    "    new_launch.writelines(lines)\n",
    "    new_launch.close()\n",
    "\n"
   ]
  },
  {
   "cell_type": "code",
   "execution_count": null,
   "id": "6b4c31e0",
   "metadata": {},
   "outputs": [],
   "source": []
  },
  {
   "cell_type": "code",
   "execution_count": null,
   "id": "b1224b10",
   "metadata": {},
   "outputs": [],
   "source": []
  }
 ],
 "metadata": {
  "kernelspec": {
   "display_name": "Python 3 (ipykernel)",
   "language": "python",
   "name": "python3"
  },
  "language_info": {
   "codemirror_mode": {
    "name": "ipython",
    "version": 3
   },
   "file_extension": ".py",
   "mimetype": "text/x-python",
   "name": "python",
   "nbconvert_exporter": "python",
   "pygments_lexer": "ipython3",
   "version": "3.8.11"
  }
 },
 "nbformat": 4,
 "nbformat_minor": 5
}
