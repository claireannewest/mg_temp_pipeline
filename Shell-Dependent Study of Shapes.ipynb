{
 "cells": [
  {
   "cell_type": "code",
   "execution_count": 1,
   "id": "a456f947",
   "metadata": {},
   "outputs": [],
   "source": [
    "import numpy as np\n",
    "import matplotlib.pyplot as plt\n",
    "\n",
    "plt.rcParams['font.sans-serif'] = \"arial\"\n",
    "plt.rcParams['font.family'] = \"arial\"\n",
    "plt.rcParams['font.size'] = 18\n",
    "plt.rcParams['lines.linewidth'] = 3\n",
    "plt.rcParams['axes.linewidth'] = 3 #set the value globally\n",
    "\n",
    "plt.rcParams['xtick.major.size'] = 10\n",
    "plt.rcParams['xtick.major.width'] = 3\n",
    "plt.rcParams['ytick.major.size'] = 10\n",
    "plt.rcParams['ytick.major.width'] = 3"
   ]
  },
  {
   "cell_type": "markdown",
   "id": "cbdd16d9",
   "metadata": {},
   "source": [
    "## Plot Shapes (even though I effed up)"
   ]
  },
  {
   "cell_type": "code",
   "execution_count": 29,
   "id": "86250fec",
   "metadata": {},
   "outputs": [
    {
     "data": {
      "image/png": "[encoded data removed]",
      "text/plain": [
       "<Figure size 576x288 with 1 Axes>"
      ]
     },
     "metadata": {
      "needs_background": "light"
     },
     "output_type": "display_data"
    }
   ],
   "source": [
    "### Hexagon ###\n",
    "fig, ax = plt.subplots(1,1,figsize=[8,4])\n",
    "\n",
    "shapes = np.array([4, 6, 12, 24])\n",
    "\n",
    "xmidpoint= np.array([ 0, 0, 0, 0, 0])\n",
    "DS = 2\n",
    "\n",
    "xrange = np.zeros((2, len(shapes)))\n",
    "yrange = np.zeros((2, len(shapes)))\n",
    "zrange = np.zeros((2, len(shapes)))\n",
    "\n",
    "for i, val in enumerate(shapes):\n",
    "    data = np.loadtxt( str('shell_dep_study/spectra/hex') + str(val) + str('/shape.dat'),skiprows=7)    \n",
    "    x = data[:,1]*float(DS)\n",
    "    y = data[:,2]*float(DS)\n",
    "    z = data[:,3]*float(DS)    \n",
    "    xrange[0, i], xrange[1, i] = min(x), max(x)\n",
    "    yrange[0, i], yrange[1, i] = min(y), max(y)\n",
    "    zrange[0, i], zrange[1, i] = min(z), max(z)\n",
    "\n",
    "    a = 40\n",
    "    if i == 0: right_offset = 0\n",
    "    else: right_offset += yrange[1,i-1] + a - yrange[0,i]\n",
    "    \n",
    "    ICOMP = data[:,4]\n",
    "    idx_plotm = np.where((ICOMP==1) & (z==0))\n",
    "    idx_plots = np.where((ICOMP==2) & (z==0))\n",
    "    \n",
    "    ax.scatter(x[idx_plotm]+right_offset, y[idx_plotm], marker='s', c='red', s=1)\n",
    "    ax.scatter(x[idx_plots]+right_offset, y[idx_plots], marker='s', c='gray', s=1)\n",
    "\n",
    "\n",
    "    idx_plotm = np.where((ICOMP==1) & (x==xmidpoint[i]))\n",
    "    idx_plots = np.where((ICOMP==2) & (x==xmidpoint[i]))\n",
    "    ax.scatter(y[idx_plotm]+right_offset, z[idx_plotm]-200, marker='s', c='red', s=1)\n",
    "    ax.scatter(y[idx_plots]+right_offset, z[idx_plots]-200, marker='s', c='gray', s=1)\n",
    "        \n",
    "ax.axis('equal');\n",
    "ax.axis('off');\n",
    "\n",
    "fig.savefig('figures/shell_dep_hex_shapes.pdf')"
   ]
  },
  {
   "cell_type": "code",
   "execution_count": null,
   "id": "7a32e34b",
   "metadata": {},
   "outputs": [],
   "source": []
  },
  {
   "cell_type": "code",
   "execution_count": null,
   "id": "644cf11f",
   "metadata": {},
   "outputs": [],
   "source": []
  },
  {
   "cell_type": "code",
   "execution_count": null,
   "id": "21464ef9",
   "metadata": {},
   "outputs": [],
   "source": []
  },
  {
   "cell_type": "code",
   "execution_count": null,
   "id": "a0d9a9c2",
   "metadata": {},
   "outputs": [],
   "source": []
  },
  {
   "cell_type": "code",
   "execution_count": null,
   "id": "30af2085",
   "metadata": {},
   "outputs": [],
   "source": []
  },
  {
   "cell_type": "code",
   "execution_count": 31,
   "id": "cc1bd084",
   "metadata": {},
   "outputs": [
    {
     "data": {
      "image/png": "[encoded data removed]",
      "text/plain": [
       "<Figure size 576x288 with 1 Axes>"
      ]
     },
     "metadata": {
      "needs_background": "light"
     },
     "output_type": "display_data"
    }
   ],
   "source": [
    "### Kite ###\n",
    "fig, ax = plt.subplots(1,1,figsize=[8,4])\n",
    "\n",
    "shapes = np.array([4, 6, 12, 24])\n",
    "\n",
    "xmidpoint= np.array([ 0, 0, 0, 0, 0])\n",
    "DS = 2\n",
    "\n",
    "xrange = np.zeros((2, len(shapes)))\n",
    "yrange = np.zeros((2, len(shapes)))\n",
    "zrange = np.zeros((2, len(shapes)))\n",
    "\n",
    "for i, val in enumerate(shapes):\n",
    "    data = np.loadtxt( str('shell_dep_study/spectra/kite') + str(val) + str('/shape.dat'),skiprows=7)    \n",
    "    x = data[:,1]*float(DS)\n",
    "    y = data[:,2]*float(DS)\n",
    "    z = data[:,3]*float(DS)    \n",
    "    xrange[0, i], xrange[1, i] = min(x), max(x)\n",
    "    yrange[0, i], yrange[1, i] = min(y), max(y)\n",
    "    zrange[0, i], zrange[1, i] = min(z), max(z)\n",
    "\n",
    "    a = 20\n",
    "    if i == 0: right_offset = 0\n",
    "    else: right_offset += yrange[1,i-1] + a - yrange[0,i]\n",
    "    \n",
    "    ICOMP = data[:,4]\n",
    "    idx_plotm = np.where((ICOMP==1) & (y==0))\n",
    "    idx_plots = np.where((ICOMP==2) & (y==0))\n",
    "    \n",
    "    ax.scatter(z[idx_plotm]+right_offset, x[idx_plotm]-150, marker='s', c='blue', s=1)\n",
    "    ax.scatter(z[idx_plots]+right_offset, x[idx_plots]-150, marker='s', c='gray', s=1)\n",
    "\n",
    "\n",
    "    idx_plotm = np.where((ICOMP==1) & (x==xmidpoint[i]))\n",
    "    idx_plots = np.where((ICOMP==2) & (x==xmidpoint[i]))\n",
    "    ax.scatter(y[idx_plotm]+right_offset, z[idx_plotm], marker='s', c='blue', s=1)\n",
    "    ax.scatter(y[idx_plots]+right_offset, z[idx_plots], marker='s', c='gray', s=1)\n",
    "    \n",
    "ax.axis('equal');\n",
    "ax.axis('off');\n",
    "\n",
    "fig.savefig('figures/shell_dep_kite_shapes.pdf')"
   ]
  },
  {
   "cell_type": "markdown",
   "id": "396948aa",
   "metadata": {},
   "source": [
    "## Load Spectra and Temperatures"
   ]
  },
  {
   "cell_type": "code",
   "execution_count": 52,
   "id": "1a89954f",
   "metadata": {},
   "outputs": [],
   "source": [
    "shapes = np.array([4, 6, 12, 24])\n",
    "\n",
    "wave_hex = []\n",
    "wave_kite = []\n",
    "abs_cross_hex = []\n",
    "abs_cross_kite = []\n",
    "\n",
    "maxT_hex = np.zeros(len(shapes))\n",
    "maxT_kite = np.zeros(len(shapes))\n",
    "skip = np.array([12, 12, 12, 12])\n",
    "\n",
    "for idx, size_val in enumerate(shapes):\n",
    "    \n",
    "    ## Spectra Hexagons ##\n",
    "    data_hex = np.loadtxt(str('shell_dep_study/spectra/hex') + str(size_val) + str('/Spectrum'))\n",
    "    data_hex_spectra =  data_hex[data_hex[:,1].argsort(),]\n",
    "    wave_hex.append(data_hex_spectra[:,1]*1000)\n",
    "    abs_cross_hex.append(data_hex_spectra[:,3]*np.pi*data_hex_spectra[:,0]**2)\n",
    "    \n",
    "    ## Spectra Kite ##\n",
    "    data_kite = np.loadtxt(str('shell_dep_study/spectra/kite') + str(size_val) + str('/Spectrum'))\n",
    "    data_kite_spectra =  data_kite[data_kite[:,1].argsort(),]\n",
    "    wave_kite.append(data_kite_spectra[:,1]*1000)\n",
    "    abs_cross_kite.append(data_kite_spectra[:,3]*np.pi*data_kite_spectra[:,0]**2)\n",
    "\n",
    "    ## Temps Hexagons ##\n",
    "    data_hex = np.loadtxt(str('shell_dep_study/temps/hex') + str(size_val) + str('/temp.out'),skiprows=skip[idx])\n",
    "    maxT_hex[idx] = max(data_hex[:,3])\n",
    "\n",
    "    ## Temps Kite ##\n",
    "    data_kite = np.loadtxt(str('shell_dep_study/temps/kite') + str(size_val) + str('/temp.out'),skiprows=skip[idx])\n",
    "    maxT_kite[idx] = max(data_kite[:,3])"
   ]
  },
  {
   "cell_type": "markdown",
   "id": "cbcfd6a7",
   "metadata": {},
   "source": [
    "## Plot it Up!"
   ]
  },
  {
   "cell_type": "code",
   "execution_count": 53,
   "id": "eabad2fe",
   "metadata": {},
   "outputs": [
    {
     "name": "stdout",
     "output_type": "stream",
     "text": [
      "[0.017 0.017 0.019 0.021]\n",
      "[12.123783 12.107176 11.976608 11.869931]\n"
     ]
    },
    {
     "data": {
      "image/png": "[encoded data removed]",
      "text/plain": [
       "<Figure size 576x360 with 3 Axes>"
      ]
     },
     "metadata": {},
     "output_type": "display_data"
    }
   ],
   "source": [
    "import matplotlib.gridspec as gridspec\n",
    "\n",
    "fig = plt.figure(figsize=[8,5])\n",
    "gs = gridspec.GridSpec(2, 2,hspace=0,wspace=.7)\n",
    "\n",
    "ax0 = fig.add_subplot(gs[0, 0])\n",
    "ax1 = fig.add_subplot(gs[1, 0])\n",
    "ax2 = fig.add_subplot(gs[:,1])\n",
    "\n",
    "colors_hex = plt.cm.autumn(np.linspace(0,1,len(shapes)))\n",
    "colors_kite = plt.cm.winter(np.linspace(0,1,len(shapes)))\n",
    "\n",
    "wave_hex_lspr = []\n",
    "wave_kite_lspr = []\n",
    "abs_hex_lspr = []\n",
    "abs_kite_lspr = []\n",
    "\n",
    "for idx, size_val in enumerate(shapes):\n",
    "    ax0.plot(wave_hex[idx], abs_cross_hex[idx], color=colors_hex[idx], label=str(size_val)+str(' nm'))\n",
    "    ax1.plot(wave_kite[idx], abs_cross_kite[idx], color=colors_kite[idx], label=str(size_val)+str(' nm'))\n",
    "    \n",
    "    idx_hex = np.where(abs_cross_hex[idx] == max(abs_cross_hex[idx]))[0][0]\n",
    "    idx_kite = np.where(abs_cross_kite[idx] == max(abs_cross_kite[idx]))[0][0]\n",
    "\n",
    "    wave_hex_lspr.append(wave_hex[idx][idx_hex])\n",
    "    wave_kite_lspr.append(wave_kite[idx][idx_kite])\n",
    "    abs_hex_lspr.append(max(abs_cross_hex[idx]))\n",
    "    abs_kite_lspr.append(max(abs_cross_kite[idx]))\n",
    "\n",
    "ax0.plot(wave_hex_lspr, abs_hex_lspr, c='black', linestyle='solid', zorder=3, linewidth=1, marker='o')\n",
    "ax1.plot(wave_kite_lspr, abs_kite_lspr, c='black', linestyle='solid', zorder=3, linewidth=1, marker='o')\n",
    "\n",
    "\n",
    "ax2.plot(shapes, maxT_hex, color='red', marker='s', label='Hex')\n",
    "ax2.plot(shapes, maxT_kite, color='blue',marker='s', label='Kite')\n",
    "\n",
    "    \n",
    "ax0.set_xlim([700, 1300]); ax1.set_xlim([700, 1300])\n",
    "ax0.set_xticks([]); ax1.set_xticks(np.linspace(700,1300,4)); \n",
    "ax0.set_ylim([0, 0.06]); ax1.set_ylim([0, 0.06]); \n",
    "ax0.set_yticks([0, 0.04]); ax1.set_yticks([0, 0.04]); \n",
    "\n",
    "ax1.set_xlabel('Wavelength [nm]')\n",
    "\n",
    "ax2.set_xticks(shapes)\n",
    "ax2.set_ylim([0,40]);\n",
    "ax2.set_xlabel('Particle Length [nm]')\n",
    "ax2.set_ylabel('Temperature Rise [$^\\circ$C]')\n",
    "\n",
    "\n",
    "ax0.set_ylabel('Abs. Cross-Sect. [$\\mu$m$^2$]');\n",
    "fig.patch.set_facecolor('white')\n",
    "# ax0.legend(frameon=False, loc='upper right', \n",
    "#            handlelength=.7, handletextpad=.4,\n",
    "#              fontsize=15,\n",
    "#              bbox_to_anchor=(1.4,1.05)\n",
    "#             )\n",
    "ax0.text(720,.05, \"Hexagon\")\n",
    "\n",
    "# ax[1].legend(frameon=False, loc='upper right', \n",
    "#            handlelength=.7, handletextpad=.4,\n",
    "#              fontsize=15,\n",
    "#              bbox_to_anchor=(1.4,1.05)\n",
    "#             )\n",
    "ax1.text(720,.05, \"Kite\")\n",
    "\n",
    "print(np.round(abs_hex_lspr,3))\n",
    "print(maxT_hex)\n",
    "\n",
    "\n",
    "fig.subplots_adjust(bottom=.2, left=.2)\n",
    "fig.savefig('figures/shell_dep_study.pdf')"
   ]
  },
  {
   "cell_type": "code",
   "execution_count": null,
   "id": "a55e3308",
   "metadata": {},
   "outputs": [],
   "source": []
  }
 ],
 "metadata": {
  "kernelspec": {
   "display_name": "Python 3 (ipykernel)",
   "language": "python",
   "name": "python3"
  },
  "language_info": {
   "codemirror_mode": {
    "name": "ipython",
    "version": 3
   },
   "file_extension": ".py",
   "mimetype": "text/x-python",
   "name": "python",
   "nbconvert_exporter": "python",
   "pygments_lexer": "ipython3",
   "version": "3.8.11"
  }
 },
 "nbformat": 4,
 "nbformat_minor": 5
}
