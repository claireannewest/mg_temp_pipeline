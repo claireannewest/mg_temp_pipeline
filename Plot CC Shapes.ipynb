{
 "cells": [
  {
   "cell_type": "code",
   "execution_count": 2,
   "id": "3ad3258b",
   "metadata": {},
   "outputs": [],
   "source": [
    "import numpy as np\n",
    "import matplotlib.pyplot as plt"
   ]
  },
  {
   "cell_type": "code",
   "execution_count": 3,
   "id": "1502f5fb",
   "metadata": {},
   "outputs": [
    {
     "name": "stdout",
     "output_type": "stream",
     "text": [
      "Thickness: 24 nm\n",
      "Tip to tip: 100 nm\n",
      "Width: 88 nm\n"
     ]
    },
    {
     "data": {
      "image/png": "[encoded data removed]",
      "text/plain": [
       "<Figure size 432x288 with 1 Axes>"
      ]
     },
     "metadata": {
      "needs_background": "light"
     },
     "output_type": "display_data"
    },
    {
     "data": {
      "image/png": "[encoded data removed]",
      "text/plain": [
       "<Figure size 432x288 with 1 Axes>"
      ]
     },
     "metadata": {
      "needs_background": "light"
     },
     "output_type": "display_data"
    }
   ],
   "source": [
    "\n",
    "fig = plt.figure()\n",
    "data = np.loadtxt('size_100nm-DS2/shape_files_from_cc/shape-hex.dat',skiprows=7)\n",
    "DS=2\n",
    "\n",
    "plt.scatter(data[:,2], data[:,3],alpha=.3)\n",
    "plt.axis('equal')\n",
    "plt.xlabel('y'); plt.ylabel('z')\n",
    "\n",
    "fig = plt.figure()\n",
    "plt.scatter(data[:,1], data[:,2],alpha=.3)\n",
    "plt.axis('equal')\n",
    "plt.xlabel('x'); plt.ylabel('y')\n",
    "\n",
    "print('Thickness:', int((max(data[:,3])-min(data[:,3]))*DS), 'nm')\n",
    "print('Tip to tip:', int((max(data[:,1])-min(data[:,1]))*DS), 'nm')\n",
    "print('Width:', int((max(data[:,2])-min(data[:,2]))*DS), 'nm')\n"
   ]
  },
  {
   "cell_type": "code",
   "execution_count": 8,
   "id": "935ae016",
   "metadata": {},
   "outputs": [
    {
     "name": "stdout",
     "output_type": "stream",
     "text": [
      "Thick: 21 nm\n",
      "Length: 100 nm\n",
      "Width: 54 nm\n"
     ]
    },
    {
     "data": {
      "image/png": "[encoded data removed]",
      "text/plain": [
       "<Figure size 432x288 with 1 Axes>"
      ]
     },
     "metadata": {
      "needs_background": "light"
     },
     "output_type": "display_data"
    }
   ],
   "source": [
    "fig = plt.figure()\n",
    "\n",
    "data = np.loadtxt('size_100nm-DS2/shape_files_from_cc/shape-kite.dat',skiprows=7)\n",
    "DS = 2\n",
    "x = data[:,1]*DS\n",
    "y = data[:,2]*DS\n",
    "z = data[:,3]*DS\n",
    "\n",
    "plt.scatter(z, x, alpha=.3)\n",
    "plt.axis('equal')\n",
    "plt.xlabel('z'); plt.ylabel('x')\n",
    "\n",
    "#### Find lower point ####\n",
    "#################################################################################\n",
    "idx_minz = np.where(z == min(z))[0]\n",
    "x_minz = x[idx_minz]; y_minz = y[idx_minz]; z_minz = z[idx_minz]\n",
    "idx_y0 = np.where(y_minz == 0)[0]\n",
    "x_minz_y0 = x_minz[idx_y0]; y_minz_y0 = y_minz[idx_y0]; z_minz_y0 = z_minz[idx_y0]\n",
    "idx_maxx = np.where(x_minz_y0 == min(x_minz_y0))[0]\n",
    "x_minz_y0_maxx = x_minz_y0[idx_maxx]; y_minz_y0_maxx = y_minz_y0[idx_maxx]; z_minz_y0_maxx = z_minz_y0[idx_maxx]; \n",
    "plt.scatter(z_minz_y0_maxx, x_minz_y0_maxx, color='r')\n",
    "\n",
    "#### Find upper point ####\n",
    "#################################################################################\n",
    "idx_maxx = np.where(x == max(x))[0]\n",
    "x_maxx = x[idx_maxx]; y_maxx = y[idx_maxx]; z_maxx = z[idx_maxx]\n",
    "\n",
    "idx_y0 = np.where(y_maxx == 0)[0]\n",
    "x_maxx_y0 = x_maxx[idx_y0]; y_maxx_y0 = y_maxx[idx_y0]; z_maxx_y0 = z_maxx[idx_y0]\n",
    "\n",
    "idx_minz = np.where(z_maxx_y0 == min(z_maxx_y0))[0]\n",
    "x_maxx_y0_minz = x_maxx_y0[idx_minz]; y_maxx_y0_minz = y_maxx_y0[idx_minz]; z_maxx_y0_minz = z_maxx_y0[idx_minz]\n",
    "\n",
    "plt.scatter(z_maxx_y0_minz, x_maxx_y0_minz, color='r')\n",
    "\n",
    "if len(x_minz_y0_maxx) > 1: print('not done')\n",
    "if len(x_maxx_y0_minz) > 1: print('not done')\n",
    "\n",
    "\n",
    "thick = np.sqrt( (x_minz_y0_maxx[0]-x_maxx_y0_minz[0])**2 +\n",
    "                (y_minz_y0_maxx[0]-y_maxx_y0_minz[0])**2 +\n",
    "                (z_minz_y0_maxx[0]-z_maxx_y0_minz[0])**2 )\n",
    "\n",
    "print('Thick:', int(np.round(thick)), 'nm')\n",
    "print('Length:', int((max(y)-min(y))), 'nm')\n",
    "print('Width:', int((max(z)-min(z))), 'nm')\n"
   ]
  },
  {
   "cell_type": "markdown",
   "id": "b58ca068",
   "metadata": {},
   "source": [
    "#### "
   ]
  },
  {
   "cell_type": "code",
   "execution_count": null,
   "id": "d5e4c70b",
   "metadata": {},
   "outputs": [],
   "source": []
  }
 ],
 "metadata": {
  "kernelspec": {
   "display_name": "Python 3 (ipykernel)",
   "language": "python",
   "name": "python3"
  },
  "language_info": {
   "codemirror_mode": {
    "name": "ipython",
    "version": 3
   },
   "file_extension": ".py",
   "mimetype": "text/x-python",
   "name": "python",
   "nbconvert_exporter": "python",
   "pygments_lexer": "ipython3",
   "version": "3.8.11"
  }
 },
 "nbformat": 4,
 "nbformat_minor": 5
}
