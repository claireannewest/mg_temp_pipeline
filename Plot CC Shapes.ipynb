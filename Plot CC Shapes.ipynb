{
 "cells": [
  {
   "cell_type": "code",
   "execution_count": 1,
   "id": "3ad3258b",
   "metadata": {},
   "outputs": [],
   "source": [
    "import numpy as np\n",
    "import matplotlib.pyplot as plt"
   ]
  },
  {
   "cell_type": "code",
   "execution_count": 2,
   "id": "77f7a1cc",
   "metadata": {},
   "outputs": [],
   "source": [
    "main_folder = 'demo'\n",
    "file = 'shape-hex100nm-4nm' # 'shape-kite80nm-6nm'\n",
    "kind = 'hex'\n",
    "lat_space = 2"
   ]
  },
  {
   "cell_type": "markdown",
   "id": "e48456c0",
   "metadata": {},
   "source": [
    "## Plot Shape File from Crystal Creator\n",
    "\n",
    "Make sure the shape file you created is the one you wanted! Note that the single crystal and twinned shapes are formed on different axes. Thus the different plotting schemes.  "
   ]
  },
  {
   "cell_type": "code",
   "execution_count": 3,
   "id": "1502f5fb",
   "metadata": {},
   "outputs": [
    {
     "name": "stdout",
     "output_type": "stream",
     "text": [
      "Metal Thickness (x): 24 nm\n",
      "Metal Length (y): 96 nm\n",
      "Metal Width (z): 84 nm \n",
      "\n",
      "Shell Thickness (x): 2 nm, 2 nm\n",
      "Shell Length (y): 4 nm, 4 nm\n",
      "Shell Width (z): 2 nm, 2 nm\n"
     ]
    },
    {
     "data": {
      "image/png": "[encoded data removed]",
      "text/plain": [
       "<Figure size 432x288 with 1 Axes>"
      ]
     },
     "metadata": {
      "needs_background": "light"
     },
     "output_type": "display_data"
    }
   ],
   "source": [
    "data = np.loadtxt(str('../create_files/')+str(main_folder)+str('/shapes_from_cc/')+str(file)+str('.dat'),skiprows=7)\n",
    "\n",
    "if kind == 'hex':\n",
    "    x = data[:,3]*lat_space\n",
    "    y = data[:,1]*lat_space\n",
    "    z = data[:,2]*lat_space\n",
    "    ICOMP = data[:,4]\n",
    "\n",
    "    idx_plotm = np.where((ICOMP==1) & (z==0))\n",
    "    idx_plots = np.where((ICOMP==2) & (z==0))\n",
    "\n",
    "    plt.scatter(y[idx_plotm], x[idx_plotm], c='red',alpha=.2)\n",
    "    plt.scatter(y[idx_plots], x[idx_plots], marker='+',c='blue')\n",
    "    plt.axis('equal');\n",
    "    plt.xlabel('y'); plt.ylabel('x');\n",
    "\n",
    "    idx_m = np.where(ICOMP==1)\n",
    "    idx_s = np.where(ICOMP==2)\n",
    "    print('Metal Thickness (x):', int((max(x[idx_m])-min(x[idx_m]))), 'nm')\n",
    "    print('Metal Length (y):', int((max(y[idx_m])-min(y[idx_m]))), 'nm')\n",
    "    print('Metal Width (z):', int((max(z[idx_m])-min(z[idx_m]))), 'nm', '\\n')\n",
    "\n",
    "    if 2 in ICOMP:\n",
    "        print('Shell Thickness (x):', int((max(x[idx_s])-max(x[idx_m]))),'nm,', int((-min(x[idx_s])+min(x[idx_m]))), 'nm')\n",
    "        print('Shell Length (y):', int((max(y[idx_s])-max(y[idx_m]))),'nm,', int((-min(y[idx_s])+min(y[idx_m]))), 'nm')\n",
    "        print('Shell Width (z):', int((max(z[idx_s])-max(z[idx_m]))),'nm,', int((-min(z[idx_s])+min(z[idx_m]))), 'nm')\n",
    "    else:\n",
    "        print('No shell')\n",
    "        \n",
    "        \n",
    "if kind == 'chair' or kind == 'taco' or kind == 'kite' or kind == 'tent':\n",
    "    x = data[:,1]*lat_space\n",
    "    y = data[:,2]*lat_space\n",
    "    z = data[:,3]*lat_space\n",
    "    ICOMP = data[:,4]\n",
    "\n",
    "    idx_plotm = np.where((ICOMP==1) & (y==0))\n",
    "    idx_plots = np.where((ICOMP==2) & (y==0))\n",
    "    plt.scatter(z[idx_plotm], x[idx_plotm], c='darkcyan',alpha=.2)\n",
    "    plt.scatter(z[idx_plots], x[idx_plots], marker='+',c='lime')\n",
    "    plt.axis('equal');\n",
    "    plt.xlabel('z'); plt.ylabel('x');\n",
    "\n",
    "    idx_m = np.where(ICOMP==1)\n",
    "\n",
    "    #### Find lower point ####\n",
    "    #################################################################################\n",
    "    idx_minz = np.where(z[idx_m] == min(z[idx_m]))[0]\n",
    "    x_minz = x[idx_minz]; y_minz = y[idx_minz]; z_minz = z[idx_minz]\n",
    "    idx_y0 = np.where(y_minz == 0)[0]\n",
    "    x_minz_y0 = x_minz[idx_y0]; y_minz_y0 = y_minz[idx_y0]; z_minz_y0 = z_minz[idx_y0]\n",
    "    idx_maxx = np.where(x_minz_y0 == min(x_minz_y0))[0]\n",
    "    x_minz_y0_maxx = x_minz_y0[idx_maxx]; y_minz_y0_maxx = y_minz_y0[idx_maxx]; z_minz_y0_maxx = z_minz_y0[idx_maxx]; \n",
    "    plt.scatter(z_minz_y0_maxx, x_minz_y0_maxx, color='magenta')\n",
    "\n",
    "    ### Find upper point ####\n",
    "    ################################################################################\n",
    "    idx_maxx = np.where(x[idx_m] == max(x[idx_m]))[0]\n",
    "    x_maxx = x[idx_maxx]; y_maxx = y[idx_maxx]; z_maxx = z[idx_maxx]\n",
    "    idx_y0 = np.where(y_maxx == 0)[0]\n",
    "    x_maxx_y0 = x_maxx[idx_y0]; y_maxx_y0 = y_maxx[idx_y0]; z_maxx_y0 = z_maxx[idx_y0]\n",
    "    idx_minz = np.where(z_maxx_y0 == min(z_maxx_y0))[0]\n",
    "    x_maxx_y0_minz = x_maxx_y0[idx_minz]; y_maxx_y0_minz = y_maxx_y0[idx_minz]; z_maxx_y0_minz = z_maxx_y0[idx_minz]\n",
    "    plt.scatter(z_maxx_y0_minz, x_maxx_y0_minz, color='magenta')\n",
    "\n",
    "    if len(x_minz_y0_maxx) > 1: print('not done')\n",
    "    if len(x_maxx_y0_minz) > 1: print('not done')\n",
    "\n",
    "    thick = np.sqrt( (x_minz_y0_maxx[0]-x_maxx_y0_minz[0])**2 +\n",
    "                (y_minz_y0_maxx[0]-y_maxx_y0_minz[0])**2 +\n",
    "                (z_minz_y0_maxx[0]-z_maxx_y0_minz[0])**2 )\n",
    "    print('Metal Thick (x):', int(np.round(thick)), 'nm')\n",
    "\n",
    "\n",
    "    idx_s = np.where(ICOMP==2)\n",
    "    print('Metal Length (y):', int((max(y[idx_m])-min(y[idx_m]))), 'nm')\n",
    "    print('Metal Width (z):', int((max(z[idx_m])-min(z[idx_m]))), 'nm', '\\n')\n",
    "    \n",
    "    if 2 in ICOMP:\n",
    "        print('Shell Thickness (x):', int((max(x[idx_s])-max(x[idx_m]))),'nm,', int((-min(x[idx_s])+min(x[idx_m]))), 'nm')\n",
    "        print('Shell Length (y):', int((max(y[idx_s])-max(y[idx_m]))),'nm,', int((-min(y[idx_s])+min(y[idx_m]))), 'nm')\n",
    "        print('Shell Width (z):', int((max(z[idx_s])-max(z[idx_m]))),'nm,', int((-min(z[idx_s])+min(z[idx_m]))), 'nm')\n",
    "    else:\n",
    "        print('No shell')\n",
    "\n",
    "\n",
    "        \n",
    "        \n",
    "        \n",
    "        \n",
    "        \n",
    "        \n",
    "        \n",
    "        \n",
    "        \n"
   ]
  },
  {
   "cell_type": "code",
   "execution_count": null,
   "id": "1e03bcab",
   "metadata": {},
   "outputs": [],
   "source": []
  }
 ],
 "metadata": {
  "kernelspec": {
   "display_name": "Python 3 (ipykernel)",
   "language": "python",
   "name": "python3"
  },
  "language_info": {
   "codemirror_mode": {
    "name": "ipython",
    "version": 3
   },
   "file_extension": ".py",
   "mimetype": "text/x-python",
   "name": "python",
   "nbconvert_exporter": "python",
   "pygments_lexer": "ipython3",
   "version": "3.8.11"
  }
 },
 "nbformat": 4,
 "nbformat_minor": 5
}
