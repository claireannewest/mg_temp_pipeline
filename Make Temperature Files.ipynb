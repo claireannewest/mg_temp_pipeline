{
 "cells": [
  {
   "cell_type": "code",
   "execution_count": 3,
   "id": "35dc31df",
   "metadata": {},
   "outputs": [],
   "source": [
    "import numpy as np\n",
    "import matplotlib.pyplot as plt\n",
    "from make_mg_template_files import Mg_Shapes\n",
    "import os\n",
    "from distutils.dir_util import copy_tree\n",
    "import shutil"
   ]
  },
  {
   "cell_type": "code",
   "execution_count": 4,
   "id": "8489b5cb",
   "metadata": {},
   "outputs": [
    {
     "name": "stdout",
     "output_type": "stream",
     "text": [
      "kite4\n",
      "kite6\n",
      "kite12\n",
      "kite24\n"
     ]
    }
   ],
   "source": [
    "kind = ['kite4', 'kite6', 'kite12', 'kite24']\n",
    "lat_space = 2\n",
    "ylength = 200 # in nm\n",
    "\n",
    "for idx, name in enumerate(kind):\n",
    "    print(name)\n",
    "    dirname_S = str('../data_files/shell_dep_study/spectra/') + str(name)\n",
    "    dirname_T = str('../data_files/shell_dep_study/temps/') + str(name)\n",
    "    \n",
    "    # Make directories\n",
    "    os.mkdir(dirname_T)\n",
    "    copy_tree(str(dirname_S), str(dirname_T))\n",
    "    os.remove(str(dirname_T)+str('/make_dirs.py'))\n",
    "    mgshape = Mg_Shapes(lat_space=lat_space, \n",
    "                    length=ylength,\n",
    "                    kind=name,\n",
    "                    new_dir_spec=dirname_S,\n",
    "                    new_dir_temp=dirname_T,\n",
    "                    shell=True)\n",
    "    # Update shape file\n",
    "    xvals, yvals, zvals = mgshape.rewrite_shapefile_poop_forT()\n",
    "    # Update ddscat.par\n",
    "    peak_abs = mgshape.write_ddscatpar_forT(data_spec=str('../data_files/shell_dep_study/spectra/')+str(name)+str('/Spectrum'))\n",
    "    # Update launch file\n",
    "    mgshape.write_launchfile_forT()\n",
    "    os.remove(str(dirname_T)+str('/launch_temp.slurm'))\n",
    "    # Write var.par\n",
    "    mgshape.write_varpar(peak_abs, xvals, yvals, zvals)\n",
    "    \n"
   ]
  },
  {
   "cell_type": "code",
   "execution_count": null,
   "id": "850e4f7f",
   "metadata": {},
   "outputs": [],
   "source": [
    "idnx=1\n",
    "i = kind[idnx]\n",
    "shape_data = np.loadtxt(str('../create_files/size_100nm-shell/temps/')+i+str('/shape.dat'),skiprows=7)\n",
    "print(min(shape_data[:,1]), max(shape_data[:,1]))\n",
    "print(min(shape_data[:,2]), max(shape_data[:,2]))\n",
    "print(min(shape_data[:,3]), max(shape_data[:,3]))\n",
    "\n",
    "\n",
    "\n"
   ]
  },
  {
   "cell_type": "code",
   "execution_count": null,
   "id": "230a119c",
   "metadata": {},
   "outputs": [],
   "source": []
  }
 ],
 "metadata": {
  "kernelspec": {
   "display_name": "Python 3 (ipykernel)",
   "language": "python",
   "name": "python3"
  },
  "language_info": {
   "codemirror_mode": {
    "name": "ipython",
    "version": 3
   },
   "file_extension": ".py",
   "mimetype": "text/x-python",
   "name": "python",
   "nbconvert_exporter": "python",
   "pygments_lexer": "ipython3",
   "version": "3.8.11"
  }
 },
 "nbformat": 4,
 "nbformat_minor": 5
}
