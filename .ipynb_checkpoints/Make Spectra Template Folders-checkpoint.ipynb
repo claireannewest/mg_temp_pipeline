{
 "cells": [
  {
   "cell_type": "code",
   "execution_count": 1,
   "id": "75b786c9",
   "metadata": {},
   "outputs": [
    {
     "ename": "TabError",
     "evalue": "inconsistent use of tabs and spaces in indentation (make_mg_template_files.py, line 16)",
     "output_type": "error",
     "traceback": [
      "Traceback \u001b[0;36m(most recent call last)\u001b[0m:\n",
      "  File \u001b[1;32m~/opt/anaconda3/lib/python3.8/site-packages/IPython/core/interactiveshell.py:3369\u001b[0m in \u001b[1;35mrun_code\u001b[0m\n    exec(code_obj, self.user_global_ns, self.user_ns)\n",
      "\u001b[0;36m  Input \u001b[0;32mIn [1]\u001b[0;36m in \u001b[0;35m<cell line: 3>\u001b[0;36m\u001b[0m\n\u001b[0;31m    from make_mg_template_files import Mg_Shapes\u001b[0m\n",
      "\u001b[0;36m  File \u001b[0;32m~/Dropbox (Cambridge University)/Claire West/Mg_NP_Temperatures/mg_temp_pipeline/make_mg_template_files.py:16\u001b[0;36m\u001b[0m\n\u001b[0;31m    self.CRSid = CRSid\u001b[0m\n\u001b[0m                      ^\u001b[0m\n\u001b[0;31mTabError\u001b[0m\u001b[0;31m:\u001b[0m inconsistent use of tabs and spaces in indentation\n"
     ]
    }
   ],
   "source": [
    "import numpy as np\n",
    "import matplotlib.pyplot as plt\n",
    "from make_mg_template_files import Mg_Shapes\n",
    "import os\n",
    "from distutils.dir_util import copy_tree\n",
    "import shutil"
   ]
  },
  {
   "cell_type": "markdown",
   "id": "8494845d",
   "metadata": {},
   "source": [
    "## Remake Shape Files from CC "
   ]
  },
  {
   "cell_type": "code",
   "execution_count": null,
   "id": "f1429247",
   "metadata": {},
   "outputs": [],
   "source": [
    "%rm -r ../spectra/hex\n"
   ]
  },
  {
   "cell_type": "code",
   "execution_count": null,
   "id": "ad28ce59",
   "metadata": {},
   "outputs": [],
   "source": [
    "kind = ['hex'] # record the shape, e.g., hex, taco, tent, kite, chair. Need new entry for each shape file.\n",
    "lat_space = 2 # dipole spacing \n",
    "ylength = 200 # tip-to-tip length in nm\n",
    "cluster = 'esc' # 'esc' or 'hpc'\n",
    "shell = True # True = a shell, False = no shell\n",
    "CRSid = 'caw97'\n",
    "\n",
    "for idx, name in enumerate(kind):\n",
    "    print(name)\n",
    "    dirname = str('../spectra/') + str(name)\n",
    "    # Make directory, copy files\n",
    "    os.mkdir(dirname)\n",
    "    if shell == True: \n",
    "        copy_tree(str(\"template_files_spectra-shell-\")+str(cluster)+str(\"/\"), str(dirname))\n",
    "    if shell == False:\n",
    "        copy_tree(str(\"template_files_spectra-\")+str(cluster)+str(\"/\"), str(dirname))\n",
    "\n",
    "    # Remake shape files\n",
    "    mgshape = Mg_Shapes(CRSid=CRSid,\n",
    "                    lat_space=lat_space, \n",
    "                    length=ylength,\n",
    "                    kind=name,\n",
    "                    new_dir_spec=dirname,\n",
    "                    new_dir_temp=str(''),\n",
    "                    shell=shell)\n",
    "    mgshape.rewrite_shapefile(shape_old=np.loadtxt(\n",
    "        str('../shape_files_from_cc/shape-')+str(name)+str('.dat'),skiprows=7),)\n",
    "    \n",
    "    # Edit ddscat.par files\n",
    "    mgshape.write_ddscatpar(which_cluster=cluster)\n",
    "    os.rename('ddscat.par', str(dirname)+str('/ddscat.par'))\n",
    "\n",
    "    if cluster == 'hpc':\n",
    "        # Rename launch_temp\n",
    "        new_launch = open(str(dirname)+str('/launch_temp.slurm'))\n",
    "        lines = new_launch.readlines()\n",
    "        lines[2] = str('#SBATCH -J ')+str(name) + '\\n'\n",
    "        new_launch = open(str(dirname)+str('/launch_temp.slurm'),\"w\")\n",
    "        new_launch.writelines(lines)\n",
    "        new_launch.close()\n",
    "    \n",
    "    if cluster == 'esc':\n",
    "         # Rename launch_temp\n",
    "        new_launch = open(str(dirname)+str('/launch_temp.slurm'))\n",
    "        lines = new_launch.readlines()\n",
    "        lines[1] = str('#SBATCH -J ')+str(name) + '\\n'\n",
    "        lines[17] = str('/home/')+str(CRSid)+str('/source_code/g-dda/source_code/ddscat &> ${file}.out &')+'\\n'\n",
    "        new_launch = open(str(dirname)+str('/launch_temp.slurm'),\"w\")\n",
    "        new_launch.writelines(lines)\n",
    "        new_launch.close()   \n"
   ]
  },
  {
   "cell_type": "code",
   "execution_count": null,
   "id": "6b4c31e0",
   "metadata": {},
   "outputs": [],
   "source": []
  },
  {
   "cell_type": "code",
   "execution_count": null,
   "id": "b1224b10",
   "metadata": {},
   "outputs": [],
   "source": []
  }
 ],
 "metadata": {
  "kernelspec": {
   "display_name": "Python 3 (ipykernel)",
   "language": "python",
   "name": "python3"
  },
  "language_info": {
   "codemirror_mode": {
    "name": "ipython",
    "version": 3
   },
   "file_extension": ".py",
   "mimetype": "text/x-python",
   "name": "python",
   "nbconvert_exporter": "python",
   "pygments_lexer": "ipython3",
   "version": "3.8.11"
  }
 },
 "nbformat": 4,
 "nbformat_minor": 5
}
